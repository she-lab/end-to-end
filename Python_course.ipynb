{
  "nbformat": 4,
  "nbformat_minor": 0,
  "metadata": {
    "colab": {
      "provenance": [],
      "authorship_tag": "ABX9TyO+CPpdNhFqSRB3KWatQL57",
      "include_colab_link": true
    },
    "kernelspec": {
      "name": "python3",
      "display_name": "Python 3"
    },
    "language_info": {
      "name": "python"
    }
  },
  "cells": [
    {
      "cell_type": "markdown",
      "metadata": {
        "id": "view-in-github",
        "colab_type": "text"
      },
      "source": [
        "<a href=\"https://colab.research.google.com/github/Sheetal25-pixel/end-to-end/blob/main/Python_course.ipynb\" target=\"_parent\"><img src=\"https://colab.research.google.com/assets/colab-badge.svg\" alt=\"Open In Colab\"/></a>"
      ]
    },
    {
      "cell_type": "code",
      "execution_count": 1,
      "metadata": {
        "colab": {
          "base_uri": "https://localhost:8080/"
        },
        "id": "3YmSyyZPTSnz",
        "outputId": "47ae5791-c497-4fa8-d42b-77bf21f522cc"
      },
      "outputs": [
        {
          "output_type": "stream",
          "name": "stdout",
          "text": [
            "45 sheetal 45000\n"
          ]
        }
      ],
      "source": [
        "age  = 45\n",
        "salary = 45000\n",
        "name = \"sheetal\"\n",
        "print(age,name,salary)"
      ]
    },
    {
      "cell_type": "code",
      "source": [
        "x = 34\n",
        "y = 34.6\n",
        "z = 3j\n",
        "h = {\"name\":\"sheetal\",\"age\":26}\n",
        "s = {\"name\",2,4,5,78.9,3j}\n",
        "b = True\n",
        "j = b\"name\" #binary format\n",
        "print(type(x),type(y),type(z),type(h),type(s),type(b),type(j))\n",
        "print(j)"
      ],
      "metadata": {
        "colab": {
          "base_uri": "https://localhost:8080/"
        },
        "id": "klto287nWSh5",
        "outputId": "74dee2c4-933f-41cc-bbd8-46624b5b38d1"
      },
      "execution_count": 3,
      "outputs": [
        {
          "output_type": "stream",
          "name": "stdout",
          "text": [
            "<class 'int'> <class 'float'> <class 'complex'> <class 'dict'> <class 'set'> <class 'bool'> <class 'bytes'>\n",
            "b'name'\n"
          ]
        }
      ]
    },
    {
      "cell_type": "code",
      "source": [
        "amount  = 150.75\n",
        "print(\"amount is ${:.3}\".format(amount))"
      ],
      "metadata": {
        "colab": {
          "base_uri": "https://localhost:8080/"
        },
        "id": "lu1qBqMEWSkw",
        "outputId": "4903536b-ab84-4adc-df41-f449002cced8"
      },
      "execution_count": 10,
      "outputs": [
        {
          "output_type": "stream",
          "name": "stdout",
          "text": [
            "amount is $1.51e+02\n"
          ]
        }
      ]
    },
    {
      "cell_type": "markdown",
      "source": [
        "1.51*100 = 151"
      ],
      "metadata": {
        "id": "NMFni-sNKXWt"
      }
    },
    {
      "cell_type": "code",
      "source": [],
      "metadata": {
        "id": "6iGlsmg7WSnO"
      },
      "execution_count": null,
      "outputs": []
    },
    {
      "cell_type": "code",
      "source": [],
      "metadata": {
        "id": "50m3LSSOWSqI"
      },
      "execution_count": null,
      "outputs": []
    },
    {
      "cell_type": "code",
      "source": [],
      "metadata": {
        "id": "DHMjc0VcWStT"
      },
      "execution_count": null,
      "outputs": []
    },
    {
      "cell_type": "code",
      "source": [],
      "metadata": {
        "id": "wPj7AI8EWSwa"
      },
      "execution_count": null,
      "outputs": []
    },
    {
      "cell_type": "code",
      "source": [],
      "metadata": {
        "id": "QPhxeotmWSz7"
      },
      "execution_count": null,
      "outputs": []
    }
  ]
}